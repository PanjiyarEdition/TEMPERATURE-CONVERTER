{
 "cells": [
  {
   "cell_type": "code",
   "execution_count": null,
   "id": "fc07e4ea",
   "metadata": {},
   "outputs": [],
   "source": [
    "unit = input(\"Is this temperature in Celsius or Fahrenheit (C/F): \")\n",
    "temp = float(input(\"Enter the temperature: \"))\n",
    "\n",
    "if unit == \"C\":\n",
    "    temp = round((9 * temp) / 5 + 32, 1)\n",
    "    print(f\"The temperature in Fahrenheit is: {temp}°F\")\n",
    "elif unit == \"F\":\n",
    "    temp = round((temp - 32) * 5 / 9, 1)\n",
    "    print(f\"The temperature in Celsius is: {temp}°C\")\n",
    "else:\n",
    "    print(f\"{unit} is an invalid unit of measurement\")"
   ]
  },
  {
   "cell_type": "code",
   "execution_count": 8,
   "id": "d6fd730e",
   "metadata": {},
   "outputs": [],
   "source": [
    "from tkinter import*\n",
    "root=Tk()\n",
    "var1=DoubleVar()\n",
    "var2=DoubleVar()\n",
    "\n",
    "label=Label(root,text='TEMPERATURE CONVERTER',font=('Arial',30))\n",
    "label.pack(side=TOP)\n",
    "\n",
    "label1=Label(root,text='Temperture in Celcius =',font=('Arial',25))\n",
    "label1.place(x=200,y=200)\n",
    "\n",
    "label2=Label(root,text='Temperture in Fahrenheit =',font=('Arial',25))\n",
    "label2.place(x=200,y=300)\n",
    "\n",
    "entry1=Entry(root,font=('Arial',25),textvariable=var1)\n",
    "entry1.place(x=600,y=200)\n",
    "\n",
    "label3=Label(root,font=('Arial',25))\n",
    "label3.place(x=600,y=300)\n",
    "\n",
    "def click1():\n",
    "        label3.config(text='' +str(var1.get() * 1.8 +    32)+ ' °F')\n",
    "\n",
    "button1=Button(root,text='Convert',font=('Arial',25),command=click1)\n",
    "button1.place(x=920,y=200)\n",
    "\n",
    "label4=Label(root,text='Temperture in Fahrenheit =',font=('Arial',25))\n",
    "label4.place(x=200,y=400)\n",
    "label5=Label(root,text='Temperture in Celcius =',font=('Arial',25))\n",
    "label5.place(x=200,y=500)\n",
    "\n",
    "entry2=Entry(root,font=('Arial',25),textvariable=var2)\n",
    "entry2.place(x=600,y=400)\n",
    "label6=Label(root,font=('Arial',25))\n",
    "label6.place(x=600,y=500)\n",
    "\n",
    "def click2():\n",
    "        label6.config(text='' +str((var2.get()-32)/1.8)+ ' °C')\n",
    "button2=Button(root,text='Convert',font=('Arial',25),command=click2)\n",
    "button2.place(x=920,y=400)\n",
    "root.mainloop()\n"
   ]
  },
  {
   "cell_type": "code",
   "execution_count": null,
   "id": "37f77bfc",
   "metadata": {},
   "outputs": [],
   "source": []
  }
 ],
 "metadata": {
  "kernelspec": {
   "display_name": "Python 3 (ipykernel)",
   "language": "python",
   "name": "python3"
  },
  "language_info": {
   "codemirror_mode": {
    "name": "ipython",
    "version": 3
   },
   "file_extension": ".py",
   "mimetype": "text/x-python",
   "name": "python",
   "nbconvert_exporter": "python",
   "pygments_lexer": "ipython3",
   "version": "3.9.13"
  }
 },
 "nbformat": 4,
 "nbformat_minor": 5
}
